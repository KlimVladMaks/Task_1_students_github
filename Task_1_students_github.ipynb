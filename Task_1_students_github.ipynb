{
 "cells": [
  {
   "cell_type": "code",
   "execution_count": null,
   "id": "7b9786eb",
   "metadata": {},
   "outputs": [],
   "source": [
    "# Установки:\n",
    "# (Используем python3.10)\n",
    "# %pip install numpy==1.24.4\n",
    "# %pip install tensorflow==2.12\n",
    "# %pip install git+https://github.com/dvolchek/rnnmorph.git"
   ]
  },
  {
   "cell_type": "code",
   "execution_count": null,
   "id": "f77d8924",
   "metadata": {},
   "outputs": [],
   "source": [
    "from rnnmorph.predictor import RNNMorphPredictor\n",
    "predictor = RNNMorphPredictor(language=\"ru\")"
   ]
  }
 ],
 "metadata": {
  "kernelspec": {
   "display_name": ".venv (3.10.18)",
   "language": "python",
   "name": "python3"
  },
  "language_info": {
   "codemirror_mode": {
    "name": "ipython",
    "version": 3
   },
   "file_extension": ".py",
   "mimetype": "text/x-python",
   "name": "python",
   "nbconvert_exporter": "python",
   "pygments_lexer": "ipython3",
   "version": "3.10.18"
  }
 },
 "nbformat": 4,
 "nbformat_minor": 5
}
